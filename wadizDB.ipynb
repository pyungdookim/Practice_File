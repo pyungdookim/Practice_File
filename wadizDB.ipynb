{
 "cells": [
  {
   "cell_type": "code",
   "execution_count": 2,
   "id": "28228d03-fd46-4d24-8da1-299f2b0b95f0",
   "metadata": {},
   "outputs": [
    {
     "name": "stdout",
     "output_type": "stream",
     "text": [
      "Collecting selenium\n",
      "  Using cached selenium-3.141.0-py2.py3-none-any.whl (904 kB)\n",
      "Requirement already satisfied: urllib3 in c:\\programdata\\anaconda3\\lib\\site-packages (from selenium) (1.26.4)\n",
      "Installing collected packages: selenium\n",
      "Successfully installed selenium-3.141.0\n"
     ]
    }
   ],
   "source": [
    "!pip install selenium"
   ]
  },
  {
   "cell_type": "code",
   "execution_count": 2,
   "id": "966e434a-0155-4eaa-95cb-d0a325eac930",
   "metadata": {},
   "outputs": [],
   "source": [
    "import requests\n",
    "from bs4 import BeautifulSoup as bsp\n",
    "import numpy as np\n",
    "import pandas as pd\n",
    "import matplotlib as mpl\n",
    "import matplotlib.pyplot as plt\n",
    "import sqlite3\n",
    "\n",
    "import json\n",
    "from datetime import datetime, timedelta\n",
    "from selenium import webdriver"
   ]
  },
  {
   "cell_type": "code",
   "execution_count": 11,
   "id": "29afa1bf-a91d-4ef0-9225-67a648e10712",
   "metadata": {},
   "outputs": [],
   "source": [
    "# PYTHON으로 SQLITE3의 DB에 데이터 담기\n",
    "dbname='wadiz.db'\n",
    "def insData(d, tblname='wadiztable'):\n",
    "    with sqlite3.connect(dbname) as conn:\n",
    "        cur=conn.cursor()\n",
    "        sql='insert into '+tblname+' (ntitle,ncontent) values (?,?)'\n",
    "        cur.execute(sql,d)"
   ]
  },
  {
   "cell_type": "code",
   "execution_count": 12,
   "id": "642285e6-af89-4d70-95b2-3cc29990f1df",
   "metadata": {},
   "outputs": [],
   "source": [
    "# DB에 와디즈의 게시물 제목과 내용 DB에 담기(연습으로 3개 게시물)\n",
    "driver = webdriver.Chrome('C:\\work37\\hackerton\\chromedriver.exe')\n",
    "driver.get(\"https://www.wadiz.kr/web/wreward/category/288?keyword=&endYn=ALL&order=recommend\") \n",
    "\n",
    "for i in range(3):\n",
    "    table =driver.find_element_by_class_name('ProjectCardList_container__3Y14k')\n",
    "    rows = table.find_elements_by_class_name(\"ProjectCardList_item__1owJa\")\n",
    "    rows = table.find_elements_by_class_name(\"ProjectCardList_item__1owJa\")[i]\n",
    "    rows.click()\n",
    "    time.sleep(2)\n",
    "    \n",
    "    title=driver.find_element_by_xpath(f'//*[@id=\"container\"]/div[3]/h2/a') # 제목\n",
    "    ntitle=title.text\n",
    "    time.sleep(2)\n",
    "    \n",
    "    body = driver.find_elements_by_xpath(f'//*[@id=\"introdetails\"]/div') # 본문\n",
    "    ncontent=body[0].text\n",
    "    time.sleep(2)\n",
    "    \n",
    "    d=(ntitle,ncontent)\n",
    "    insData(d)\n",
    "    time.sleep(2)\n",
    "    \n",
    "    driver.back()"
   ]
  },
  {
   "cell_type": "code",
   "execution_count": 2,
   "id": "cbc98f69-3d2e-44e3-8b0d-866d9388116a",
   "metadata": {
    "collapsed": true,
    "jupyter": {
     "outputs_hidden": true
    },
    "tags": []
   },
   "outputs": [
    {
     "data": {
      "text/plain": [
       "\"안녕하세요 와디즈 서포터님들!\\n210 입니다.\\n\\n2021 차려입은티 1차 펀딩\\n2021년 5월 12일 기준\\n\\n1차 펀딩 보러가기 >\\n\\n\\n이렇게 만족해주시는 차려입은티가\\n앵콜로 돌아왔습니다.\\n\\n\\n\\n210의 더 진화된 셋업으로\\n원마일웨어도 투마일웨어도\\n후줄근함 버리세요.\\n\\n\\n\\n\\n요즘 이런 코디 유행이죠?\\n\\n코로나로 격식있는 차림 보다는 집에서도 편하게 입을 수 있고, 원마일 또는 투마일웨어로 가볍게 입기 좋은 스웻셋업이 유행입니다.\\n그런데... 편하다고 해서\\n후줄근하면?\\n\\n\\n차려입은 투마일 셋업이라면 문제 없습니다!\\n\\n\\n\\n\\n\\n\\n입었을 때 보이는 겉은 면으로, 안쪽은 폴리소재로 만들어진 쿨텐션  '플레이트 저지' 기능성 소재로 제작해서 땀이나도 들러붙지 않고 시원합니다.\\n\\n겉으로 보기엔 일반 면 티셔츠 처럼 보이지만, 뒤집으면 안쪽이 폴리사로 되어있습니다. 겉면은 광택감이 전혀 없이 고급스러운 터치감입니다.\\n\\n플레이트 저지의 최대 장점!\\n빠른 흡수와 건조로 땀이 많이나도 피부에 들러붙지 않아, 항상 쾌적합니다!\\n\\n땀배출이 잘되는 것 만큼, 통기성도 좋아 시원합니다.\\n\\n차려입은티와 일반 면티의 땀흡수 및 배출 테스트\\n1. 티셔츠 안쪽면에 약 10ml의 물을 적심\\n2. 물이 원단으로 흡수된 후 얇고 작게 자른 티슈를 올림\\n3. 10초 후 바람을 불어 티슈가 얼마나 날라가는지 확인\\n[차려입은티 안쪽면]\\n[일반면티 안쪽면]\\n\\n\\n건조시간 TEST\\n\\n차려입은티는 기능성 스포츠의류 보다도 건조시간이 빠른 것을 확인하실 수 있습니다.\\n\\n하루종일 쾌적한 착용감을 느낄 수 있는\\n쿨텐션 차려입은 티셔츠 입니다.\\n\\n\\n\\n쫀쫀함이 있는 뛰어난 신축성으로 착용감이 편하고 복원력이 좋아, 세탁 후에도 변형없이 후줄근해지지 않습니다.\\n복원력이 좋아서 구김이 금방 사라집니다.\\n\\n깔끔함의 또 다른 비밀,\\n차별화된 넥라인!\\n일반적인 립은, 머리를 통과해야 해서 입고 벗기 쉽게 잘 늘어나는 골지조직을 사용합니다. 그래서 착용시 늘림이나, 세탁을 거쳐 늘어나게 되고 복원이 잘 되지 않습니다.\\n이 점을 보완하기 위해 차려입은티의 라운드 스타일은 겉으로 보기엔 일반 라운드 티셔츠처럼 '립'이 존재하지만 제원단을 사용해 늘어남이 없게 하였습니다.\\n제원단 자체의 신축성이 좋아 입고 벗을 때에도 불편하지 않습니다.\\n\\n안심하고 세탁하세요!\\n1차펀딩 슬릿티셔츠와 함께 테스트 했습니다.\\n\\n\\n\\n\\n데오드란트 테이프로 냄새를 효과적으로 감소시킵니다.\\n티셔츠 안쪽 암홀 부분에 '면'소재의 데오드란트 테이프가 봉제되어 있어, 소취 기능이 있습니다.\\n더운 날씨에 조금 더 깔끔하고 쾌적해질 수 있습니다.\\n\\n[데오드란트 택]\\n데오드란트 테이프 효과 시험성적서\\n30분내 소취율 96%\\n\\n그럼 이제, 앵콜 셋업버전의\\n새로움을 설명드릴께요.\\n\\n홈웨어, 원마일 웨어, 투마일 웨어, 여행 갈때, 운동 할 때!\\n언제든 입기 좋아요. 차려입은티 원단으로 제작된 셋업으로 후줄근함 없이 늘어남 없이 세트로 코디할 수 있어요.\\n\\n세트로 입기 싫을 땐?\\n단품으로 코디하세요.\\n편안한 착용감과 예쁜 컬러감으로 한 벌 세트로 입으면 스타일 있는 코디가 완성되고, 단품으로 티셔츠만 따로, 반바지만 따로 단품으로도 입으실 수 있습니다!\\n활용도 갑! 아이템 :)\\n\\n\\n여성 사이즈 많이 기다리셨죠?\\n1차 펀딩때에도 여성 사이즈 요청해주신 서포터님이 정말 많으셨어요.\\n이번 앵콜펀딩에서는 여성 전용 사이즈를 출시 했습니다.\\n85, 90인 여성용 사이즈는 남성용 사이즈에서 단순히 사이즈만 줄인 것이 아닌 핏과 디자인 자체를 라인에  맞게 디자인했습니다.\\n\\n그리고 앞판 주머니도 없애서 조금 더 심플하고 여성스러운 디자인으로 완성했습니다.\\n\\n남성용 사이즈는,\\n95 / 100 / 105 / 110\\n로 제작됩니다.\\n\\n\\n\\n\\n반바지 양 사이드에 두 줄 디테일이 있어 다리가 조금 더 슬림해보이고, 조금 더 길어보이는 효과가 있습니다.\\n\\n양쪽 사이즈 주머니가 있고 마감 처리도 깔끔하게 되어있어 수납력도 높이고 디자인도 밋밋하지 않게 했습니다.\\n\\n허리 부분은 여유있는 밴딩으로 제작되어있고 끈으로 한 번 더 사이즈를 조절할 수 있습니다.\\n\\n엄청 쭉쭉 잘 늘어나요!\\n너무 짱짱해서 찡기고 힘든 밴딩이 아닌, 착용감 편한 밴딩을 사용했습니다. 배 부분 답답할까 걱정 안하셔도 되고 배 뽈록이 될까 걱정 안하셔도 됩니다!\\n밴딩 복원력도 좋아 늘어짐 없습니다.\\n\\n\\n스웻세트 한벌로도\\n충분히 멋낼 수 있습니다.\\n스웻 셋업의 밋밋함을 최대한 없애고\\n스타일 있는 코디를 할 수 있게 디자인 했습니다.\\n\\n\\n이제, 차려입은 셋업을\\n자세히 살펴볼까요?\\nCOLOR\\n컬러는 총 네가지 입니다.\\n남성, 여성 스타일 모두 동일한 컬러 구성으로 제작했습니다.\\n커플이면............. 커플룩으로...... (죄송합니다)\\n\\nSET\\n위아래 SET 구성으로 리워드를 준비했고,\\n상의 사이즈와 맞는 하의 사이즈로 SET 구성이 되어있어요.\\n* 여성 - 85(WS) 90(WM)\\n* 남성 - 95(M) 100(L) 105(XL) 110(XXL)\\n\\n남성 스카이\\n\\n•티셔츠만 코디시•\\n\\n남성 스톤\\n* 모니터마다 컬러 차이가 있을 수 있으며, 스톤 컬러는 실제컬러보다 이미지가 조금 더 밝습니다.\\n\\n남성민트\\n\\n•티셔츠만 코디시•\\n\\n남성 블랙\\n\\n•티셔츠만 코디시•\\n\\n\\n여성 스카이\\n*여성용 스카이 컬러의 경우 사진보다 하늘색에 가깝습니다. 연보라보다는 하늘색!\\n*이정도에 가까운데 모니터마다 차이가 있을 수 있습니다.\\n\\n여성 스톤\\n\\n•티셔츠만 코디시•\\n\\n\\n여성 민트\\n\\n•티셔츠만 코디시•\\n\\n\\n여성 블랙\\n여자 모델 : 키 170cm, 상의 S, 하의 26 -> 셋업 85(WS) 착용\\n남자 모델 : 키 181cm, 상의 95, 100 하의 29 -> 셋업100(L) 착용\\n\\n리워드 구성 소개전에...\\n이번 펀딩은,\\n\\n티셔츠를 사면 반바지가 착한 혜택으로 따라오는 느낌일까요? :)\\n이번 앵콜에서는 아쉽게도 반바지 단독 리워드를 준비하지 못했습니다. 그대신 정말 착한 혜택으로 준비했으니 많은 관심 부탁드립니다!\\n\\n\\n\\n\\n\\n[차려입은 라벨 디테일]\\n여성용, 남성용 모두 왼쪽(착용시) 밑단에 포인트 라벨이 있습니다.\\n*스톤,민트,스카이는 밝은컬러 라벨로, 블랙은 차콜 컬러 라벨이 들어갑니다.\\n\\n[차려입은 셋업 상세 스펙]\\n소재 : 폴리 60% 면 33% 스판 7%\\n비침 : 거의 없음\\n[상세 사이즈(단위:cm)]\\n\\n\\n\\n-참여 기간 : 오픈예정 ~ 본펀딩 마감까지\\n-참여 조건 : 알림 신청 후 펀딩한 서포터만 가능\\n-이벤트 선물 : 차려입은 셋업 1set\\n-이벤트 결과 발표 : 프로젝트 결제 이후 일주일 이내 새소식을 통한 공지\\n-선물 발송일 및 전달 방법 : 옵션 취합 후 리워드와 개별 발송\\n-펀딩 실패시 이벤트는 진행되지 않습니다.\\n\\n메이커 210,\\n안녕하세요. 2020 베스트 메이커 210 입니다.\\n저희는 항상 옷의 '조금 더'를 고민하고 있습니다. 단순히 예쁘고 멋진기만 한 옷이 아닌, 옷의 본질을 더 깊게 고민하고 저희가 만드는 옷에 반영 하고 있습니다.\\n'조금 더 편하게, 조금 더 따뜻하게, 조금 더 가볍게, 조급 더 시원하게..'\\n210만의 '조금 더'를 경험해보세요.\\n\\n프로젝트 진행 동기,\\n이번 차려입은 투마일 셋업은 작년에 이어 올해도 많은 서포터님께서 좋아해주셨던 차려입은티의 세트 버전으로 준비했습니다.\\n한 벌로 편하게 입을 수 있는 옷은 없을까?\\n고민하다가 후줄근해지지 않고 늘어남없는 소재로 위아래 세트를 만들어 서포터님의 하루가 더욱 편해지길 바랐습니다.\\n코로나 바이러스로 인해 격식차려야 하는 자리는 점점 줄어들고, 재택근무도 많아지고, 점점 편한 옷들이 필요해지는 시기 입니다.\\n항상 '조금 더'를 생각하는 210의 이번 차려입은티의 '조금 더'는\\n조금 더 편하게 입니다.\\n많은 서포터님께서도 차려입은 셋업을 경험해보시길 바랍니다 :)\\n\\n리워드 발송 안내,\\n발송 방법 : 택배 발송\\n발송 택배사 : CJ대한통운\\n발송 일정 : 7월 12일 발송 시작 예정 (일 400개씩 순차발송)\\n도서/산간지역 발송 안내 : 추가배송비 3,000원 리워드 추가 선택\\n문의 채널\\n- 카카오채널 : @플랫화이트 (two one zero)\\n- 메이커에게 문의하기\\n- 상담 시간 9:00~16:00\\n수령 후 보관 시 유의사항 : 접어서 폴리백에 담겨 발송됩니다. 접힌 부분에 구김이 있을 수 있습니다. 스팀 다림질 하시면 구김은 모두 제거 됩니다.\\n\\n\\nFAQ\\nQ. 프로젝트의 펀딩금은 어떻게 사용하실 계획인가요? \\n차려입은티 제작 금액으로 사용되고 또 다른, 서포터님을 편하게 할 아이템 개발 비용으로 사용됩니다.\\nQ. 리워드의 가장 큰 강점은 무엇인가요? \\n땀이 많이 나는 여름에도 들러붙지 않고 시원합니다. 또 플레이트 저지 소재로 세탁 후 에도 변형이 거의 없고 후줄근해지지 않습니다.\\nQ. 해당 프로젝트에 펀딩 시, 서포터가 꼭 알아야 하는 점이 있나요?\\n모니터의 해상도는 서포터님의 모니터 사양마다 모두 다릅니다. 이미지와 실제 컬러의 차이가 있을 수 있으며 이미지와 컬러가 다른 이유로 반환신청은 불가합니다.\""
      ]
     },
     "execution_count": 2,
     "metadata": {},
     "output_type": "execute_result"
    }
   ],
   "source": [
    "# wadiz_title[0] # 크롤링한 3개 게시물 중 첫번째 게시물 제목\n",
    "# wadiz_body[0] # 크롤링한 3개 게시물 중 첫번째 게시물 본문"
   ]
  }
 ],
 "metadata": {
  "kernelspec": {
   "display_name": "Python 3",
   "language": "python",
   "name": "python3"
  },
  "language_info": {
   "codemirror_mode": {
    "name": "ipython",
    "version": 3
   },
   "file_extension": ".py",
   "mimetype": "text/x-python",
   "name": "python",
   "nbconvert_exporter": "python",
   "pygments_lexer": "ipython3",
   "version": "3.8.8"
  }
 },
 "nbformat": 4,
 "nbformat_minor": 5
}
