{
 "cells": [
  {
   "cell_type": "code",
   "execution_count": 1,
   "id": "7d4a810a-3e81-47c2-813f-7836dc2d71ca",
   "metadata": {},
   "outputs": [],
   "source": [
    "import numpy as np\n",
    "import pandas as pd\n",
    "import matplotlib as mpl\n",
    "import matplotlib.pyplot as plt\n",
    "import sqlite3\n",
    "from konlpy.tag import Kkma\n",
    "kkma=Kkma()\n",
    "from nltk import FreqDist"
   ]
  },
  {
   "cell_type": "code",
   "execution_count": 2,
   "id": "028675f5-963d-4757-b9fc-e87ad490388a",
   "metadata": {},
   "outputs": [
    {
     "name": "stderr",
     "output_type": "stream",
     "text": [
      "[nltk_data] Downloading package punkt to\n",
      "[nltk_data]     C:\\Users\\kpd\\AppData\\Roaming\\nltk_data...\n",
      "[nltk_data]   Package punkt is already up-to-date!\n"
     ]
    },
    {
     "data": {
      "text/plain": [
       "True"
      ]
     },
     "execution_count": 2,
     "metadata": {},
     "output_type": "execute_result"
    }
   ],
   "source": [
    "import nltk\n",
    "from nltk.tokenize import word_tokenize,WhitespaceTokenizer, WordPunctTokenizer\n",
    "nltk.download('punkt')"
   ]
  },
  {
   "cell_type": "code",
   "execution_count": 3,
   "id": "e3a0f884-2dba-4de8-b3c9-3dea83a05da2",
   "metadata": {},
   "outputs": [],
   "source": [
    "# db에서 데이터 가져오기\n",
    "dbname='wadiz.db'\n",
    "def getData(cols='*',whr='',tblname='wadiztable'):\n",
    "    with sqlite3.connect(dbname) as conn:\n",
    "        cur=conn.cursor()\n",
    "        sql='select '+ cols+' from '+tblname+' '+whr\n",
    "        data=cur.execute(sql).fetchall()\n",
    "    return data\n",
    "\n",
    "res=getData('ncontent')"
   ]
  },
  {
   "cell_type": "code",
   "execution_count": 4,
   "id": "03580821-50d3-4ee8-8250-b025e86b8fbe",
   "metadata": {},
   "outputs": [],
   "source": [
    "# 형태소 단위로 분해해서 그 중 중요한 것들만 추출 \n",
    "def tknWord(txt):\n",
    "    kpos=kkma.pos(txt)\n",
    "    cate=['NNG','NNP','NNB','VV','VA','VCP','VCN','MAG','MAC']\n",
    "    tkn=[]\n",
    "    for k in kpos:\n",
    "        if(k[1] in cate):\n",
    "            if (len(k[0])>1):\n",
    "                tkn.append(k[0])\n",
    "    return tkn"
   ]
  },
  {
   "cell_type": "code",
   "execution_count": 5,
   "id": "afa6eb2f-f3c4-4986-8621-f246a3101451",
   "metadata": {},
   "outputs": [],
   "source": [
    "# 형태소로 분해한 것들을 join으로 붙여서 str로 변환\n",
    "def makeTxta(rn):\n",
    "    txta=[]\n",
    "    for res in rn:\n",
    "        txta.append(tknWord(res))\n",
    "    txtall=''\n",
    "    for txt in txta:\n",
    "        txtall+=' '.join(txt)\n",
    "    return txtall\n",
    "# makeTxta(res[0])"
   ]
  },
  {
   "cell_type": "code",
   "execution_count": 6,
   "id": "0923bffd-6f8e-43f0-bedc-84bf0a6b490b",
   "metadata": {},
   "outputs": [],
   "source": [
    "# wordmap을 만들기 위한 함수\n",
    "def makeWmap(txt,mc_num=200):\n",
    "    txt=txt.lower()\n",
    "    kps=kkma.pos(txt)\n",
    "    kp=[k[0] for k in kps]\n",
    "    nltkkr=' '.join(kp)\n",
    "    nltkkr\n",
    "    words=word_tokenize(nltkkr)\n",
    "    wfreq=FreqDist(words) \n",
    "    mostcom=wfreq.most_common(mc_num)\n",
    "    return mostcom"
   ]
  },
  {
   "cell_type": "code",
   "execution_count": 8,
   "id": "2710f7f2-1798-4897-a3a5-30a3d6d4a9de",
   "metadata": {
    "collapsed": true,
    "jupyter": {
     "outputs_hidden": true
    },
    "tags": []
   },
   "outputs": [
    {
     "data": {
      "text/plain": [
       "[('오팔', 51),\n",
       " ('사용', 38),\n",
       " ('ㄹ', 37),\n",
       " ('제품', 33),\n",
       " ('아', 33),\n",
       " ('어', 30),\n",
       " ('제작', 29),\n",
       " ('위하', 29),\n",
       " ('디자인', 28),\n",
       " ('천연', 27),\n",
       " ('가능', 27),\n",
       " ('보석', 27),\n",
       " ('나무', 26),\n",
       " ('르', 26),\n",
       " ('리워드', 22),\n",
       " ('프로젝트', 22),\n",
       " ('하', 21),\n",
       " ('니', 19),\n",
       " ('발송', 18),\n",
       " ('반지', 18),\n",
       " ('이', 17),\n",
       " ('자연', 16),\n",
       " ('알', 16),\n",
       " ('서포터', 16),\n",
       " ('퀄리티', 16),\n",
       " ('동물', 15),\n",
       " ('가죽', 15),\n",
       " ('함께', 15),\n",
       " ('기능', 15),\n",
       " ('진행', 13),\n",
       " ('사이즈', 13),\n",
       " ('가방', 13),\n",
       " ('가장', 12),\n",
       " ('결제', 12),\n",
       " ('가격', 12),\n",
       " ('보이', 12),\n",
       " ('드리', 12),\n",
       " ('만들', 11),\n",
       " ('부분', 11),\n",
       " ('다양', 11),\n",
       " ('따', 11),\n",
       " ('가', 11),\n",
       " ('세팅', 11),\n",
       " ('경우', 11),\n",
       " ('반환', 11),\n",
       " ('소재', 10),\n",
       " ('형태', 10),\n",
       " ('조절', 10),\n",
       " ('배송', 10),\n",
       " ('지갑', 9),\n",
       " ('가지', 9),\n",
       " ('나', 9),\n",
       " ('과정', 9),\n",
       " ('경험', 9),\n",
       " ('컬러', 9),\n",
       " ('통', 9),\n",
       " ('착용', 9),\n",
       " ('일정', 9),\n",
       " ('더욱', 9),\n",
       " ('특징', 9),\n",
       " ('우드', 8),\n",
       " ('모두', 8),\n",
       " ('리', 8),\n",
       " ('효과', 8),\n",
       " ('직접', 8),\n",
       " ('추가', 8),\n",
       " ('지', 8),\n",
       " ('체인', 8),\n",
       " ('도금', 8),\n",
       " ('문의', 8),\n",
       " ('교환', 8),\n",
       " ('환경', 7),\n",
       " ('재료', 7),\n",
       " ('소개', 7),\n",
       " ('사', 7),\n",
       " ('혜택', 7),\n",
       " ('시간', 7),\n",
       " ('다', 7),\n",
       " ('느끼', 7),\n",
       " ('색상', 7),\n",
       " ('느낌', 7),\n",
       " ('편안', 7),\n",
       " ('기', 7),\n",
       " ('때문', 7),\n",
       " ('지퍼', 7),\n",
       " ('택배', 7),\n",
       " ('정책', 7),\n",
       " ('바라', 7),\n",
       " ('메이커', 7),\n",
       " ('멀', 7),\n",
       " ('티', 7),\n",
       " ('자유', 7),\n",
       " ('스트랩', 7),\n",
       " ('세상', 6),\n",
       " ('친화', 6),\n",
       " ('이상', 6),\n",
       " ('장인', 6),\n",
       " ('마음', 6),\n",
       " ('노력', 6),\n",
       " ('와디', 6),\n",
       " ('특별', 6),\n",
       " ('일반적', 6),\n",
       " ('완성', 6),\n",
       " ('준비', 6),\n",
       " ('전달', 6),\n",
       " ('정도', 6),\n",
       " ('오', 6),\n",
       " ('유색', 6),\n",
       " ('확인', 6),\n",
       " ('모', 6),\n",
       " ('도', 6),\n",
       " ('모든', 6),\n",
       " ('바디', 6),\n",
       " ('구성', 6),\n",
       " ('종료', 6),\n",
       " ('태스킹', 6),\n",
       " ('레더', 6),\n",
       " ('플랩', 6),\n",
       " ('페이지', 6),\n",
       " ('거치', 5),\n",
       " ('무늬목', 5),\n",
       " ('브랜드', 5),\n",
       " ('개발', 5),\n",
       " ('특성', 5),\n",
       " ('질', 5),\n",
       " ('기간', 5),\n",
       " ('보', 5),\n",
       " ('용하', 5),\n",
       " ('최상급', 5),\n",
       " ('색감', 5),\n",
       " ('단순', 5),\n",
       " ('매력', 5),\n",
       " ('떠하', 5),\n",
       " ('공기', 5),\n",
       " ('시작', 5),\n",
       " ('아름다움', 5),\n",
       " ('관련', 5),\n",
       " ('단계', 5),\n",
       " ('가치', 5),\n",
       " ('예정', 5),\n",
       " ('여왕', 5),\n",
       " ('름답', 5),\n",
       " ('촬영', 5),\n",
       " ('생기', 5),\n",
       " ('의', 5),\n",
       " ('커팅', 5),\n",
       " ('기본', 5),\n",
       " ('토파즈', 5),\n",
       " ('방법', 5),\n",
       " ('고가', 5),\n",
       " ('구', 5),\n",
       " ('길이', 5),\n",
       " ('보관', 5),\n",
       " ('화이트', 5),\n",
       " ('변경', 5),\n",
       " ('수리', 5),\n",
       " ('감사', 5),\n",
       " ('안내', 5),\n",
       " ('지역', 5),\n",
       " ('아래', 5),\n",
       " ('사유', 5),\n",
       " ('업체', 5),\n",
       " ('금속', 5),\n",
       " ('한번', 5),\n",
       " ('충실', 5),\n",
       " ('사이드', 5),\n",
       " ('양쪽', 5),\n",
       " ('버전', 5),\n",
       " ('원단', 5),\n",
       " ('마감', 5),\n",
       " ('접수', 5),\n",
       " ('공존', 4),\n",
       " ('품질', 4),\n",
       " ('생각', 4),\n",
       " ('일상', 4),\n",
       " ('수작업', 4),\n",
       " ('사랑', 4),\n",
       " ('찾', 4),\n",
       " ('동안', 4),\n",
       " ('현상', 4),\n",
       " ('표현', 4),\n",
       " ('없이', 4),\n",
       " ('부드', 4),\n",
       " ('럽', 4),\n",
       " ('볍', 4),\n",
       " ('영업', 4),\n",
       " ('순차', 4),\n",
       " ('ㄴ', 4),\n",
       " ('그리', 4),\n",
       " ('빠르', 4),\n",
       " ('수록', 4),\n",
       " ('합리적', 4),\n",
       " ('생산', 4),\n",
       " ('저가', 4),\n",
       " ('일반', 4),\n",
       " ('내부', 4),\n",
       " ('보호', 4),\n",
       " ('빛', 4),\n",
       " ('스톤', 4),\n",
       " ('히', 4)]"
      ]
     },
     "execution_count": 8,
     "metadata": {},
     "output_type": "execute_result"
    }
   ],
   "source": [
    "# np.ravel으로 list형태로 변환\n",
    "rn=np.ravel(res)\n",
    "totmcw=makeWmap(makeTxta(rn)) # 전체 사전(kn)을 만들기 위함\n",
    "totmcw"
   ]
  },
  {
   "cell_type": "code",
   "execution_count": null,
   "id": "babe56f3-b04e-469f-9ca7-29c59fcd5184",
   "metadata": {},
   "outputs": [],
   "source": [
    "# makeTxta 적용하여 str로 변환된 3개 게시글 모두 합침\n",
    "totmcwi=[]\n",
    "for i in range(3):\n",
    "    totmcwi.append(makeTxta(res[i]))\n",
    "# totmcwi[0]"
   ]
  },
  {
   "cell_type": "code",
   "execution_count": 9,
   "id": "cbe81a3d-29ca-4b94-b56c-ba273711f0f6",
   "metadata": {},
   "outputs": [
    {
     "name": "stdout",
     "output_type": "stream",
     "text": [
      "['오팔', '사용', 'ㄹ', '제품', '아', '어', '제작', '위하', '디자인', '천연', '가능', '보석', '나무', '르', '리워드', '프로젝트', '하', '니', '발송', '반지', '이', '자연', '알', '서포터', '퀄리티', '동물', '가죽', '함께', '기능', '진행', '사이즈', '가방', '가장', '결제', '가격', '보이', '드리', '만들', '부분', '다양', '따', '가', '세팅', '경우', '반환', '소재', '형태', '조절', '배송', '지갑', '가지', '나', '과정', '경험', '컬러', '통', '착용', '일정', '더욱', '특징', '우드', '모두', '리', '효과', '직접', '추가', '지', '체인', '도금', '문의', '교환', '환경', '재료', '소개', '사', '혜택', '시간', '다', '느끼', '색상', '느낌', '편안', '기', '때문', '지퍼', '택배', '정책', '바라', '메이커', '멀', '티', '자유', '스트랩', '세상', '친화', '이상', '장인', '마음', '노력', '와디', '특별', '일반적', '완성', '준비', '전달', '정도', '오', '유색', '확인', '모', '도', '모든', '바디', '구성', '종료', '태스킹', '레더', '플랩', '페이지', '거치', '무늬목', '브랜드', '개발', '특성', '질', '기간', '보', '용하', '최상급', '색감', '단순', '매력', '떠하', '공기', '시작', '아름다움', '관련', '단계', '가치', '예정', '여왕', '름답', '촬영', '생기', '의', '커팅', '기본', '토파즈', '방법', '고가', '구', '길이', '보관', '화이트', '변경', '수리', '감사', '안내', '지역', '아래', '사유', '업체', '금속', '한번', '충실', '사이드', '양쪽', '버전', '원단', '마감', '접수', '공존', '품질', '생각', '일상', '수작업', '사랑', '찾', '동안', '현상', '표현', '없이', '부드', '럽', '볍', '영업', '순차', 'ㄴ', '그리', '빠르', '수록', '합리적', '생산', '저가', '일반', '내부', '보호', '빛', '스톤', '히'] {0: 51, 1: 38, 2: 37, 3: 33, 4: 33, 5: 30, 6: 29, 7: 29, 8: 28, 9: 27, 10: 27, 11: 27, 12: 26, 13: 26, 14: 22, 15: 22, 16: 21, 17: 19, 18: 18, 19: 18, 20: 17, 21: 16, 22: 16, 23: 16, 24: 16, 25: 15, 26: 15, 27: 15, 28: 15, 29: 13, 30: 13, 31: 13, 32: 12, 33: 12, 34: 12, 35: 12, 36: 12, 37: 11, 38: 11, 39: 11, 40: 11, 41: 11, 42: 11, 43: 11, 44: 11, 45: 10, 46: 10, 47: 10, 48: 10, 49: 9, 50: 9, 51: 9, 52: 9, 53: 9, 54: 9, 55: 9, 56: 9, 57: 9, 58: 9, 59: 9, 60: 8, 61: 8, 62: 8, 63: 8, 64: 8, 65: 8, 66: 8, 67: 8, 68: 8, 69: 8, 70: 8, 71: 7, 72: 7, 73: 7, 74: 7, 75: 7, 76: 7, 77: 7, 78: 7, 79: 7, 80: 7, 81: 7, 82: 7, 83: 7, 84: 7, 85: 7, 86: 7, 87: 7, 88: 7, 89: 7, 90: 7, 91: 7, 92: 7, 93: 6, 94: 6, 95: 6, 96: 6, 97: 6, 98: 6, 99: 6, 100: 6, 101: 6, 102: 6, 103: 6, 104: 6, 105: 6, 106: 6, 107: 6, 108: 6, 109: 6, 110: 6, 111: 6, 112: 6, 113: 6, 114: 6, 115: 6, 116: 6, 117: 6, 118: 6, 119: 5, 120: 5, 121: 5, 122: 5, 123: 5, 124: 5, 125: 5, 126: 5, 127: 5, 128: 5, 129: 5, 130: 5, 131: 5, 132: 5, 133: 5, 134: 5, 135: 5, 136: 5, 137: 5, 138: 5, 139: 5, 140: 5, 141: 5, 142: 5, 143: 5, 144: 5, 145: 5, 146: 5, 147: 5, 148: 5, 149: 5, 150: 5, 151: 5, 152: 5, 153: 5, 154: 5, 155: 5, 156: 5, 157: 5, 158: 5, 159: 5, 160: 5, 161: 5, 162: 5, 163: 5, 164: 5, 165: 5, 166: 5, 167: 5, 168: 5, 169: 5, 170: 5, 171: 4, 172: 4, 173: 4, 174: 4, 175: 4, 176: 4, 177: 4, 178: 4, 179: 4, 180: 4, 181: 4, 182: 4, 183: 4, 184: 4, 185: 4, 186: 4, 187: 4, 188: 4, 189: 4, 190: 4, 191: 4, 192: 4, 193: 4, 194: 4, 195: 4, 196: 4, 197: 4, 198: 4, 199: 4}\n"
     ]
    }
   ],
   "source": [
    "ks=[]\n",
    "wdic={}\n",
    "i=0\n",
    "for k,v in totmcw:\n",
    "    ks.append(k)\n",
    "    wdic[i]=v\n",
    "    i+=1\n",
    "print(ks,wdic)"
   ]
  },
  {
   "cell_type": "code",
   "execution_count": 16,
   "id": "f3878b89-39b1-4bfe-8cdb-45345821a8a2",
   "metadata": {},
   "outputs": [],
   "source": [
    "# 3개 게시글 전체를 참고한 단어 사전 만들기\n",
    "def wmap2list(txt, keys=ks):\n",
    "    res=[]\n",
    "    for i in range(200):\n",
    "        res.append(0)\n",
    "    for t in txt:\n",
    "        if t[0] in keys:\n",
    "            idx=keys.index(t[0])\n",
    "            res[idx]=t[1]\n",
    "    return res"
   ]
  },
  {
   "cell_type": "code",
   "execution_count": 22,
   "id": "fe97959b-d6fc-41c2-86f2-267b59daedd1",
   "metadata": {},
   "outputs": [],
   "source": [
    "# 각 게시글에서 앞에서 만든 단어 사전을 참고해서 각각의 maplist를 만듬\n",
    "maplist=[]\n",
    "for sen in totmcwi:\n",
    "    sendic=makeWmap(sen)\n",
    "    wm=wmap2list(sendic,ks)\n",
    "    maplist.append(wm)"
   ]
  },
  {
   "cell_type": "code",
   "execution_count": 29,
   "id": "82ffbe85-1ec6-4e1c-abd6-34fe471d9e73",
   "metadata": {},
   "outputs": [
    {
     "name": "stdout",
     "output_type": "stream",
     "text": [
      "Malgun Gothic\n"
     ]
    }
   ],
   "source": [
    "# 한글 글씨 나오게\n",
    "from matplotlib import font_manager,rc\n",
    "import matplotlib.pyplot as plt\n",
    "font_path=\"C:\\Windows\\Fonts\\malgun.ttf\" # dir로 영어이름 찾기\n",
    "font=font_manager.FontProperties(fname=font_path).get_name()\n",
    "print(font)\n",
    "rc('font',family=font)"
   ]
  },
  {
   "cell_type": "code",
   "execution_count": 30,
   "id": "1526dea9-28fb-4a3d-be3c-1dca72f654c6",
   "metadata": {},
   "outputs": [
    {
     "data": {
      "image/png": "[encoded data removed]",
      "text/plain": [
       "<Figure size 1080x360 with 3 Axes>"
      ]
     },
     "metadata": {
      "needs_background": "light"
     },
     "output_type": "display_data"
    }
   ],
   "source": [
    "fig=plt.figure(figsize=(15,5))\n",
    "ax1=fig.add_subplot(1,3,1)\n",
    "ax2=fig.add_subplot(1,3,2)\n",
    "ax3=fig.add_subplot(1,3,3)\n",
    "\n",
    "ax1.imshow(np.array(maplist[0]).reshape(10,20))\n",
    "ax1.axis('off')\n",
    "\n",
    "ax2.imshow(np.array(maplist[1]).reshape(10,20))\n",
    "ax2.axis('off')\n",
    "\n",
    "ax3.imshow(np.array(maplist[2]).reshape(10,20))\n",
    "ax3.axis('off')\n",
    "\n",
    "ax1.set_title('1번 게시글')\n",
    "ax2.set_title('2번 게시글')\n",
    "ax3.set_title('3번 게시글')\n",
    "\n",
    "plt.show()"
   ]
  }
 ],
 "metadata": {
  "kernelspec": {
   "display_name": "Python 3",
   "language": "python",
   "name": "python3"
  },
  "language_info": {
   "codemirror_mode": {
    "name": "ipython",
    "version": 3
   },
   "file_extension": ".py",
   "mimetype": "text/x-python",
   "name": "python",
   "nbconvert_exporter": "python",
   "pygments_lexer": "ipython3",
   "version": "3.8.8"
  }
 },
 "nbformat": 4,
 "nbformat_minor": 5
}
